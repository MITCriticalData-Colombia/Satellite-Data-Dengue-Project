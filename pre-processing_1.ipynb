{
 "cells": [
  {
   "cell_type": "code",
   "execution_count": 29,
   "metadata": {},
   "outputs": [],
   "source": [
    "import datetime\n",
    "import numpy as np\n",
    "import os"
   ]
  },
  {
   "cell_type": "code",
   "execution_count": 102,
   "metadata": {},
   "outputs": [
    {
     "data": {
      "text/plain": [
       "array(['2015-08-05', '2015-08-10', '2015-08-15', '2015-08-20',\n",
       "       '2015-08-24', '2015-08-29', '2015-09-03', '2015-09-08',\n",
       "       '2015-09-12', '2015-09-17'], dtype='<U10')"
      ]
     },
     "execution_count": 102,
     "metadata": {},
     "output_type": "execute_result"
    }
   ],
   "source": [
    "#2015\n",
    "start = datetime.datetime(2015,8,1)\n",
    "end = datetime.datetime(2015,12,31)\n",
    "n_chunks = 8*4 # num semanas/año\n",
    "tdelta = (end - start) / n_chunks\n",
    "edges = [(start + i*tdelta).date().isoformat() for i in range(n_chunks)]\n",
    "# Obtain intervals\n",
    "slots_2015 = [(edges[i], edges[i+1]) for i in range(len(edges)-1)]\n",
    "slots = np.array(slots_2015)\n",
    "name_cols_2015 = slots[:,1]\n",
    "#name_cols = str(name_cols)\n",
    "name_cols_2015[:10]"
   ]
  },
  {
   "cell_type": "code",
   "execution_count": 84,
   "metadata": {},
   "outputs": [
    {
     "data": {
      "text/plain": [
       "array(['2016-01-08', '2016-01-15', '2016-01-22', '2016-01-29',\n",
       "       '2016-02-05', '2016-02-12', '2016-02-19', '2016-02-26',\n",
       "       '2016-03-04', '2016-03-11'], dtype='<U10')"
      ]
     },
     "execution_count": 84,
     "metadata": {},
     "output_type": "execute_result"
    }
   ],
   "source": [
    "#2016\n",
    "start = datetime.datetime(2016,1,1) #2020-06-01', '2020-06-3\n",
    "end = datetime.datetime(2016,12,31)\n",
    "n_chunks = 52 # num semanas/año\n",
    "tdelta = (end - start) / n_chunks\n",
    "edges = [(start + i*tdelta).date().isoformat() for i in range(n_chunks)]\n",
    "# Obtain intervals\n",
    "slots_2016 = [(edges[i], edges[i+1]) for i in range(len(edges)-1)]\n",
    "slots = np.array(slots_2016)\n",
    "name_cols_2016 = slots[:,1]\n",
    "#name_cols = str(name_cols)\n",
    "name_cols_2016[:10]"
   ]
  },
  {
   "cell_type": "code",
   "execution_count": 85,
   "metadata": {},
   "outputs": [
    {
     "data": {
      "text/plain": [
       "array(['2017-01-08', '2017-01-15', '2017-01-22', '2017-01-29',\n",
       "       '2017-02-05', '2017-02-12', '2017-02-19', '2017-02-26',\n",
       "       '2017-03-05', '2017-03-12'], dtype='<U10')"
      ]
     },
     "execution_count": 85,
     "metadata": {},
     "output_type": "execute_result"
    }
   ],
   "source": [
    "#2017\n",
    "start = datetime.datetime(2017,1,1) #2020-06-01', '2020-06-3\n",
    "end = datetime.datetime(2017,12,31)\n",
    "n_chunks = 52 # num semanas/año\n",
    "tdelta = (end - start) / n_chunks\n",
    "edges = [(start + i*tdelta).date().isoformat() for i in range(n_chunks)]\n",
    "# Obtain intervals\n",
    "slots_2017 = [(edges[i], edges[i+1]) for i in range(len(edges)-1)]\n",
    "slots = np.array(slots_2017)\n",
    "name_cols_2017 = slots[:,1]\n",
    "#name_cols = str(name_cols)\n",
    "name_cols_2017[:10]"
   ]
  },
  {
   "cell_type": "code",
   "execution_count": 86,
   "metadata": {},
   "outputs": [
    {
     "data": {
      "text/plain": [
       "array(['2018-01-08', '2018-01-15', '2018-01-22', '2018-01-29',\n",
       "       '2018-02-05', '2018-02-12', '2018-02-19', '2018-02-26',\n",
       "       '2018-03-05', '2018-03-12'], dtype='<U10')"
      ]
     },
     "execution_count": 86,
     "metadata": {},
     "output_type": "execute_result"
    }
   ],
   "source": [
    "#2018\n",
    "start = datetime.datetime(2018,1,1) #2020-06-01', '2020-06-3\n",
    "end = datetime.datetime(2018,12,31)\n",
    "n_chunks = 52 # num semanas/año\n",
    "tdelta = (end - start) / n_chunks\n",
    "edges = [(start + i*tdelta).date().isoformat() for i in range(n_chunks)]\n",
    "# Obtain intervals\n",
    "slots_2018 = [(edges[i], edges[i+1]) for i in range(len(edges)-1)]\n",
    "slots = np.array(slots_2018)\n",
    "name_cols_2018 = slots[:,1]\n",
    "#name_cols = str(name_cols)\n",
    "name_cols_2018[:10]"
   ]
  },
  {
   "cell_type": "code",
   "execution_count": 103,
   "metadata": {},
   "outputs": [
    {
     "name": "stdout",
     "output_type": "stream",
     "text": [
      "51\n"
     ]
    }
   ],
   "source": [
    "root_images = \"./data/data_medellin/\"\n",
    "aois_2015 = sorted([f for f in os.listdir(os.path.join(root_images,\"2015\"))\n",
    "               if os.path.isdir(os.path.join(root_images,\"2015\", f))])\n",
    "aois_2016 = sorted([f for f in os.listdir(os.path.join(root_images,\"2016\"))\n",
    "               if os.path.isdir(os.path.join(root_images,\"2016\", f))])\n",
    "aois_2017 = sorted([f for f in os.listdir(os.path.join(root_images,\"2017\"))\n",
    "               if os.path.isdir(os.path.join(root_images,\"2017\", f))])\n",
    "aois_2018 = sorted([f for f in os.listdir(os.path.join(root_images,\"2018\"))\n",
    "               if os.path.isdir(os.path.join(root_images,\"2018\", f))])\n",
    "print(len(aois_2016))"
   ]
  },
  {
   "cell_type": "code",
   "execution_count": null,
   "metadata": {},
   "outputs": [],
   "source": [
    "#2015\n",
    "for i, aoi in enumerate(aois_2015):\n",
    "    #print(i, \"aoi:\", aoi)\n",
    "    im_dir = os.path.join(root_images, '2015', aoi, 'response.tiff')\n",
    "    image_path = os.path.join(im_dir).replace('response', name_cols_2015[i])\n",
    "    os.rename(im_dir, image_path)\n",
    "    #print(image_path)\n",
    "#2016\n",
    "for i, aoi in enumerate(aois_2016):\n",
    "    #print(i, \"aoi:\", aoi)\n",
    "    im_dir = os.path.join(root_images, '2016', aoi, 'response.tiff')\n",
    "    image_path = os.path.join(im_dir).replace('response', name_cols_2016[i])\n",
    "    os.rename(im_dir, image_path)\n",
    "    #print(image_path)\n",
    "    \n",
    "# 2017 \n",
    "for i, aoi in enumerate(aois_2017):\n",
    "    #print(i, \"aoi:\", aoi)\n",
    "    im_dir = os.path.join(root_images, '2017', aoi, 'response.tiff')\n",
    "    image_path = os.path.join(im_dir).replace('response', name_cols_2017[i])\n",
    "    os.rename(im_dir, image_path)\n",
    "    #print(image_path)\n",
    "    \n",
    "# 2018 \n",
    "for i, aoi in enumerate(aois_2018):\n",
    "    #print(i, \"aoi:\", aoi)\n",
    "    im_dir = os.path.join(root_images, '2018', aoi, 'response.tiff')\n",
    "    image_path = os.path.join(im_dir).replace('response', name_cols_2018[i])\n",
    "    os.rename(im_dir, image_path)\n",
    "    #print(image_path)"
   ]
  },
  {
   "cell_type": "code",
   "execution_count": 105,
   "metadata": {},
   "outputs": [],
   "source": [
    "import shutil \n",
    "\n",
    "dataset = \"/home/sebasmos/Desktop/satellite-extractor/data/data_medellin/dataset\"\n",
    "\n",
    "for root, dirs, files in os.walk(root_images, topdown=True):\n",
    "    for name in files:\n",
    "        path = os.path.join(root, name)\n",
    "        #print(path)\n",
    "        if \".tiff\" in path and not \"dataset\" in path:\n",
    "            shutil.copy(path, dataset)"
   ]
  }
 ],
 "metadata": {
  "kernelspec": {
   "display_name": "Cardiolux",
   "language": "python",
   "name": "cardiolux"
  },
  "language_info": {
   "codemirror_mode": {
    "name": "ipython",
    "version": 3
   },
   "file_extension": ".py",
   "mimetype": "text/x-python",
   "name": "python",
   "nbconvert_exporter": "python",
   "pygments_lexer": "ipython3",
   "version": "3.9.6"
  }
 },
 "nbformat": 4,
 "nbformat_minor": 4
}
